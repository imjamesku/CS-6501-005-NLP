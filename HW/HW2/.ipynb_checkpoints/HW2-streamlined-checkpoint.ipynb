{
 "cells": [
  {
   "cell_type": "code",
   "execution_count": 219,
   "metadata": {},
   "outputs": [],
   "source": [
    "def setenceToTokens(sentence):\n",
    "    return sentence.split()\n",
    "def tokenToWordAndTag(token):\n",
    "#     print(token)\n",
    "    word, tag = token.split('/')\n",
    "    return (word, tag)\n",
    "def tokensToPairs(tokens):\n",
    "    return [tokenToWordAndTag(token) for token in tokens]\n",
    "def tokensToWordsAndTags(tokens):\n",
    "    x, y = [], []\n",
    "    for token in tokens:\n",
    "        word, tag = tokenToWordAndTag(token)\n",
    "        x.append(word)\n",
    "        y.append(tag)\n",
    "    return x, y\n",
    "def process(data):\n",
    "    \"\"\"\n",
    "    data: list of senteces\n",
    "    \"\"\"\n",
    "    x, y = [], []\n",
    "    for sentence in data:\n",
    "        words, tags = tokensToWordsAndTags(setenceToTokens(sentence))\n",
    "        x.append(words)\n",
    "        y.append(tags)\n",
    "    return x, y\n",
    "def setUnknown(x, vocab):\n",
    "    for words in x:\n",
    "        for i in range(len(words)):\n",
    "            if words[i] not in vocab:\n",
    "                words[i] = '<UNK>'\n",
    "    return x"
   ]
  },
  {
   "cell_type": "markdown",
   "metadata": {},
   "source": [
    "## POS tagging\n",
    "### (a) Preprocessing"
   ]
  },
  {
   "cell_type": "code",
   "execution_count": 245,
   "metadata": {},
   "outputs": [
    {
     "name": "stdout",
     "output_type": "stream",
     "text": [
      "Training data ...\n",
      "54097\n"
     ]
    }
   ],
   "source": [
    "# Load packages\n",
    "from collections import Counter\n",
    "from sklearn.feature_extraction.text import CountVectorizer\n",
    "import nltk\n",
    "\n",
    "# Load data\n",
    "trn = open(\"data/trn.pos\").read().strip().split(\"\\n\")\n",
    "print(\"Training data ...\")\n",
    "print(\"{}\".format(len(trn)))\n",
    "# print(trn[:3])\n",
    "pairs = [tokenToWordAndTag(token) for token in setenceToTokens(trn[0])]\n",
    "# print(pairs)\n",
    "tokenizedSetences = [setenceToTokens(setence) for setence in trn]\n",
    "pairLists = [tokensToPairs(tokens) for tokens in tokenizedSetences]\n",
    "# print(pairLists[0])\n",
    "count = Counter()\n",
    "vocab = set()\n",
    "for pairList in pairLists:\n",
    "    for pair in pairList:\n",
    "        count[pair[0]] += 1\n",
    "        vocab.add(pair[0])\n",
    "# print(pairLists[0])\n",
    "for pairList in pairLists:\n",
    "    for i, pair in enumerate(pairList):\n",
    "        if count[pair[0]] < 2:\n",
    "            pairList[i] = ('<UNK>', pair[1])\n",
    "            count['<UNK>'] += 1\n",
    "            if pair[0] in vocab:\n",
    "                vocab.remove(pair[0])\n",
    "count['<start>'] = len(pairLists)\n",
    "count['<end>'] = len(pairLists)"
   ]
  },
  {
   "cell_type": "markdown",
   "metadata": {},
   "source": [
    "### (b)  Estimating transition probability"
   ]
  },
  {
   "cell_type": "code",
   "execution_count": 247,
   "metadata": {},
   "outputs": [],
   "source": [
    "transitionCount = Counter()\n",
    "for pairList in pairLists:\n",
    "    transitionCount[('<start>', pairList[0][1])] += 1\n",
    "    transitionCount[(pairList[-1][1], '<end>')] += 1\n",
    "    for i in range(1, len(pairList)):\n",
    "        transitionCount[(pairList[i-1][1], pairList[i][1])] += 1\n",
    "tagCount = Counter()\n",
    "stateSpace = set()\n",
    "vocab = set()\n",
    "for pairList in pairLists:\n",
    "    for pair in pairList:\n",
    "        tagCount[pair[1]] += 1\n",
    "        stateSpace.add(pair[1])\n",
    "        vocab.add(pair[0])\n",
    "stateSpace = list(stateSpace)\n",
    "tagCount['<start>'] = len(pairLists)\n",
    "tagCount['<end>'] = len(pairLists)\n",
    "# print(transitionCount)"
   ]
  },
  {
   "cell_type": "code",
   "execution_count": 248,
   "metadata": {},
   "outputs": [],
   "source": [
    "def calculateTransitionProb(transitionCount, stateSpace, alpha = 1):\n",
    "    transitionProb = {}\n",
    "    for tag1 in stateSpace+['<start>']:\n",
    "        for tag2 in stateSpace+['<end>']:\n",
    "            transitionProb[(tag1, tag2)] = (transitionCount[(tag1, tag2)] + alpha) / (tagCount[tag1] + alpha*len(stateSpace))\n",
    "    return transitionProb"
   ]
  },
  {
   "cell_type": "code",
   "execution_count": 250,
   "metadata": {},
   "outputs": [],
   "source": [
    "transitionProb = calculateTransitionProb(transitionCount, stateSpace, 1)\n",
    "# print(transitionProb)"
   ]
  },
  {
   "cell_type": "code",
   "execution_count": 251,
   "metadata": {},
   "outputs": [
    {
     "name": "stdout",
     "output_type": "stream",
     "text": [
      "1.0000076051410753\n"
     ]
    }
   ],
   "source": [
    "testSum = 0\n",
    "for key, value in transitionProb.items():\n",
    "    if key[0] == 'C':\n",
    "        testSum += value\n",
    "print(testSum)"
   ]
  },
  {
   "cell_type": "markdown",
   "metadata": {},
   "source": [
    "### (c) Estimating the emission probability"
   ]
  },
  {
   "cell_type": "code",
   "execution_count": 252,
   "metadata": {},
   "outputs": [],
   "source": [
    "emissionCount = Counter()\n",
    "beta = 1\n",
    "stateSpace = set()\n",
    "vocab = set()\n",
    "for pairList in pairLists:\n",
    "    for pair in pairList:\n",
    "        emissionCount[(pair[1], pair[0])] += 1\n",
    "        stateSpace.add(pair[1])\n",
    "        vocab.add(pair[0])\n",
    "stateSpace = list(stateSpace)\n",
    "def calculateEmissionProb(emissionCount, stateSpace, beta):    \n",
    "    emissionProb = {}\n",
    "    for tag in stateSpace:\n",
    "#         print(tag)\n",
    "        for word in vocab:\n",
    "            emissionProb[(tag, word)] = (emissionCount[(tag, word)] + beta)/(tagCount[tag] + beta*len(vocab))\n",
    "    return emissionProb\n",
    "emissionProb = calculateEmissionProb(emissionCount, stateSpace, beta)"
   ]
  },
  {
   "cell_type": "code",
   "execution_count": 253,
   "metadata": {},
   "outputs": [
    {
     "name": "stdout",
     "output_type": "stream",
     "text": [
      "0.999999999999972\n"
     ]
    }
   ],
   "source": [
    "testSum = 0\n",
    "for key, value in emissionProb.items():\n",
    "    if key[0] == 'N':\n",
    "        testSum += value\n",
    "print(testSum)"
   ]
  },
  {
   "cell_type": "markdown",
   "metadata": {},
   "source": [
    "### (d) The Viterbi Algorithm"
   ]
  },
  {
   "cell_type": "code",
   "execution_count": 254,
   "metadata": {},
   "outputs": [],
   "source": [
    "# Convert to log probabilities\n",
    "from math import log\n",
    "def convertToLog(prob):\n",
    "    for k in prob:\n",
    "        prob[k] = log(prob[k])\n",
    "    return prob\n",
    "logTransitionProb = convertToLog(transitionProb)\n",
    "logEmissionProb = convertToLog(emissionProb)"
   ]
  },
  {
   "cell_type": "code",
   "execution_count": 258,
   "metadata": {},
   "outputs": [],
   "source": [
    "import numpy as np\n",
    "def viterbi(x, logTransitionProb, logEmissionProb):\n",
    "    \"\"\"\n",
    "    Return the MAP estimate of y.\n",
    "    Parameters\n",
    "    ----------\n",
    "    x : array (T,)\n",
    "        Observation state sequence. int dtype.\n",
    "    logTransitionProb : dictionary\n",
    "        State transition map.\n",
    "        details.\n",
    "    logEmissionProb : dictionary\n",
    "        Emission map.\n",
    "\n",
    "    Returns\n",
    "    -------\n",
    "    y : array (T,)\n",
    "        Maximum a posteriori probability estimate of hidden state trajectory.\n",
    "    \"\"\"\n",
    "    # Cardinality of the state space\n",
    "    K = len(stateSpace)\n",
    "    T = len(x)\n",
    "    maxProb = np.empty((T, K), np.float64)\n",
    "    bestPrev = np.empty((T, K), dtype=object)\n",
    "\n",
    "    # Initilaize the tracking tables from first observation\n",
    "    for i, tag in enumerate(stateSpace):\n",
    "        maxProb[0, i] = logTransitionProb[('<start>', tag)] + logEmissionProb[(tag, x[0])]\n",
    "    bestPrev[0, :] = '<start>'\n",
    "    for i in range(1, len(x)):\n",
    "        for j, tag in enumerate(stateSpace):\n",
    "            bestPrevProb, bestPrevTag = float('-inf'), None\n",
    "            for k, prevTag in enumerate(stateSpace):\n",
    "                temp = maxProb[i-1, k] + logTransitionProb[(prevTag, tag)] + logEmissionProb[(tag, x[i])]\n",
    "                if temp > bestPrevProb:\n",
    "                    bestPrevProb = temp\n",
    "                    bestPrevTag = prevTag\n",
    "            maxProb[i, j] = bestPrevProb\n",
    "            bestPrev[i, j] = bestPrevTag\n",
    "    bestLastProb, betLastTag = float('-inf'), None\n",
    "    for i, prevTag in enumerate(stateSpace):\n",
    "        temp = maxProb[-1, i] + logTransitionProb[(prevTag, '<end>')]\n",
    "        if temp > bestLastProb:\n",
    "            bestLastProb = temp\n",
    "            bestLastTag = prevTag\n",
    "    y = [bestLastTag]\n",
    "    for i in reversed(range(1, T)):\n",
    "#         print(i)\n",
    "        y.append(bestPrev[i, stateSpace.index(bestLastTag)])\n",
    "        bestLastTag = y[-1]\n",
    "    return y[::-1]"
   ]
  },
  {
   "cell_type": "code",
   "execution_count": 259,
   "metadata": {},
   "outputs": [],
   "source": [
    "def pairListToWords(pairList):\n",
    "    return [pair[0] for pair in pairList]"
   ]
  },
  {
   "cell_type": "code",
   "execution_count": 260,
   "metadata": {},
   "outputs": [],
   "source": [
    "def calculateAccuracy(x, y, logTransitionProb, logEmissionProb):\n",
    "    correct, total = 0, 0\n",
    "    for words, tags in zip(x, y):\n",
    "        predicted_tags = viterbi(words, logTransitionProb, logEmissionProb)\n",
    "        for predicted_tag, tag in zip(predicted_tags, tags):\n",
    "            total += 1\n",
    "            if predicted_tag == tag:\n",
    "                correct += 1\n",
    "    return correct/total"
   ]
  },
  {
   "cell_type": "code",
   "execution_count": 262,
   "metadata": {},
   "outputs": [
    {
     "name": "stdout",
     "output_type": "stream",
     "text": [
      "Accuracy: 0.9474509398528627\n"
     ]
    }
   ],
   "source": [
    "## load dev\n",
    "dev = open(\"data/dev.pos\").read().strip().split(\"\\n\")\n",
    "x, y = process(dev)\n",
    "x = setUnknown(x, vocab)\n",
    "# print(x[:3])\n",
    "# print(y[:3])\n",
    "print('Accuracy: {}'.format(calculateAccuracy(x, y, logTransitionProb, logEmissionProb)))"
   ]
  },
  {
   "cell_type": "markdown",
   "metadata": {},
   "source": [
    "### (e) Tuning $\\alpha$ and $\\beta$"
   ]
  },
  {
   "cell_type": "code",
   "execution_count": 237,
   "metadata": {},
   "outputs": [
    {
     "name": "stdout",
     "output_type": "stream",
     "text": [
      "alpha=1, accuracy=0.9474509398528627\n",
      "alpha=100, accuracy=0.9478213676538998\n",
      "alpha=200, accuracy=0.9480195034544546\n",
      "alpha=500, accuracy=0.9482865560552024\n",
      "alpha=1000, accuracy=0.9489671094571079\n",
      "alpha=2000, accuracy=0.9497941110594235\n",
      "alpha=3000, accuracy=0.9498199548594959\n",
      "alpha=5000, accuracy=0.9502248410606295\n",
      "alpha=10000, accuracy=0.9496735066590858\n",
      "alpha=20000, accuracy=0.9472355748522596\n"
     ]
    }
   ],
   "source": [
    "for alpha in [1,100, 200 , 500, 1000, 2000, 3000, 5000, 10000, 20000]:\n",
    "    transitionProb = calculateTransitionProb(transitionCount, stateSpace, alpha)\n",
    "    logTransitionProb = convertToLog(transitionProb)\n",
    "    print('alpha={}, accuracy={}'.format(alpha, calculateAccuracy(x, y, logTransitionProb, logEmissionProb)))"
   ]
  },
  {
   "cell_type": "code",
   "execution_count": 243,
   "metadata": {},
   "outputs": [
    {
     "name": "stdout",
     "output_type": "stream",
     "text": [
      "beta=1, accuracy=0.9502248410606295\n",
      "beta=2, accuracy=0.9462448958494857\n",
      "beta=3, accuracy=0.9422563360383177\n",
      "beta=4, accuracy=0.9388794128288623\n",
      "beta=5, accuracy=0.9361485846212161\n"
     ]
    }
   ],
   "source": [
    "transitionProb = calculateTransitionProb(transitionCount, stateSpace, 5000)\n",
    "logTransitionProb = convertToLog(transitionProb)\n",
    "for beta in [1, 2, 3, 4, 5]:\n",
    "    emissionProb = calculateEmissionProb(emissionCount, stateSpace, beta)\n",
    "    logEmissionProb = convertToLog(emissionProb)\n",
    "    print('beta={}, accuracy={}'.format(beta, calculateAccuracy(x, y, logTransitionProb, logEmissionProb)))"
   ]
  },
  {
   "cell_type": "markdown",
   "metadata": {},
   "source": [
    "### (f) Testing"
   ]
  },
  {
   "cell_type": "code",
   "execution_count": 264,
   "metadata": {},
   "outputs": [
    {
     "name": "stdout",
     "output_type": "stream",
     "text": [
      "Accuracy on testing data: 0.9515465680318943\n"
     ]
    }
   ],
   "source": [
    "tst = open(\"data/tst.pos\").read().strip().split(\"\\n\")\n",
    "x, y = process(tst)\n",
    "x = setUnknown(x, vocab)\n",
    "# alpha = 5000\n",
    "transitionProb = calculateTransitionProb(transitionCount, stateSpace, 5000)\n",
    "logTransitionProb = convertToLog(transitionProb)\n",
    "# beta = 1\n",
    "emissionProb = calculateEmissionProb(emissionCount, stateSpace, 1)\n",
    "logEmissionProb = convertToLog(emissionProb)\n",
    "print('Accuracy on testing data: {}'.format(calculateAccuracy(x, y, logTransitionProb, logEmissionProb)))"
   ]
  }
 ],
 "metadata": {
  "kernelspec": {
   "display_name": "Python 3",
   "language": "python",
   "name": "python3"
  },
  "language_info": {
   "codemirror_mode": {
    "name": "ipython",
    "version": 3
   },
   "file_extension": ".py",
   "mimetype": "text/x-python",
   "name": "python",
   "nbconvert_exporter": "python",
   "pygments_lexer": "ipython3",
   "version": "3.6.5"
  }
 },
 "nbformat": 4,
 "nbformat_minor": 2
}
