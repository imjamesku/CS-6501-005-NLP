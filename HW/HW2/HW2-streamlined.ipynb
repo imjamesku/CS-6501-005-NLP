{
 "cells": [
  {
   "cell_type": "code",
   "execution_count": 9,
   "metadata": {},
   "outputs": [],
   "source": [
    "class Preprocessor:\n",
    "    def setenceToTokens(self, sentence):\n",
    "        return sentence.split()\n",
    "    def tokenToWordAndTag(self, token):\n",
    "    #     print(token)\n",
    "        word, tag = token.split('/')\n",
    "        return (word, tag)\n",
    "    def tokensToPairs(self, tokens):\n",
    "        return [tokenToWordAndTag(token) for token in tokens]\n",
    "    def tokensToWordsAndTags(self, tokens):\n",
    "        x, y = [], []\n",
    "        for token in tokens:\n",
    "            word, tag = tokenToWordAndTag(token)\n",
    "            x.append(word)\n",
    "            y.append(tag)\n",
    "        return x, y\n",
    "    def process(self, data):\n",
    "        \"\"\"\n",
    "        data: list of senteces\n",
    "        \"\"\"\n",
    "        x, y = [], []\n",
    "        for sentence in data:\n",
    "            words, tags = tokensToWordsAndTags(setenceToTokens(sentence))\n",
    "            x.append(words)\n",
    "            y.append(tags)\n",
    "        return x, y\n",
    "    def setUnknown(self, x, vocab):\n",
    "        # Set words not in vocab to unknown\n",
    "        for words in x:\n",
    "            for i in range(len(words)):\n",
    "                if words[i] not in vocab:\n",
    "                    words[i] = '<UNK>'\n",
    "        return x\n",
    "    def setLowFreqToUnknown(self, x, occurences = 2):\n",
    "        count = Counter()\n",
    "        vocab = set()\n",
    "        for words in x:\n",
    "            for word in words:\n",
    "                count[word] += 1\n",
    "        for words in x:\n",
    "            for i, word in enumerate(words):\n",
    "                if count[word] < occurences:\n",
    "                    words[i] = '<UNK>'\n",
    "                    count['<UNK>'] += 1\n",
    "#                 vocab.add(words[i])\n",
    "        return x"
   ]
  },
  {
   "cell_type": "markdown",
   "metadata": {},
   "source": [
    "## POS tagging\n",
    "### (a) Preprocessing"
   ]
  },
  {
   "cell_type": "code",
   "execution_count": 10,
   "metadata": {},
   "outputs": [
    {
     "name": "stdout",
     "output_type": "stream",
     "text": [
      "Training data ...\n",
      "54097\n"
     ]
    }
   ],
   "source": [
    "# Load packages\n",
    "from collections import Counter\n",
    "\n",
    "# Load data\n",
    "trn = open(\"data/trn.pos\").read().strip().split(\"\\n\")\n",
    "print(\"Training data ...\")\n",
    "print(\"{}\".format(len(trn)))\n",
    "processor = Preprocessor()\n",
    "trainX, trainY = processor.process(trn)\n",
    "trainX = processor.setLowFreqToUnknown(trainX)"
   ]
  },
  {
   "cell_type": "markdown",
   "metadata": {},
   "source": [
    "### (b)  Estimating transition probability"
   ]
  },
  {
   "cell_type": "code",
   "execution_count": 14,
   "metadata": {},
   "outputs": [],
   "source": [
    "transitionCount = Counter()\n",
    "for words, tags in zip(trainX, trainY):\n",
    "    transitionCount[('<start>',tags[0])] += 1\n",
    "    transitionCount[(tags[-1], '<end>')] += 1\n",
    "    for i in range(1, len(tags)):\n",
    "        transitionCount[(tags[i-1], tags[i])] += 1\n",
    "tagCount = Counter()\n",
    "stateSpace = set()\n",
    "vocab = set()\n",
    "for words, tags in zip(trainX, trainY):\n",
    "    for word, tag in zip(words, tags):\n",
    "        tagCount[tag] += 1\n",
    "        stateSpace.add(tag)\n",
    "        vocab.add(word)\n",
    "stateSpace = list(stateSpace)\n",
    "tagCount['<start>'] = len(trainY)\n",
    "tagCount['<end>'] = len(trainY)\n",
    "# print(transitionCount)"
   ]
  },
  {
   "cell_type": "code",
   "execution_count": 15,
   "metadata": {},
   "outputs": [],
   "source": [
    "def calculateTransitionProb(transitionCount, stateSpace, alpha = 1):\n",
    "    transitionProb = {}\n",
    "    for tag1 in stateSpace+['<start>']:\n",
    "        for tag2 in stateSpace+['<end>']:\n",
    "            transitionProb[(tag1, tag2)] = (transitionCount[(tag1, tag2)] + alpha) / (tagCount[tag1] + alpha*len(stateSpace))\n",
    "    return transitionProb"
   ]
  },
  {
   "cell_type": "code",
   "execution_count": 17,
   "metadata": {},
   "outputs": [],
   "source": [
    "transitionProb = calculateTransitionProb(transitionCount, stateSpace, 1)\n",
    "# print(transitionProb)"
   ]
  },
  {
   "cell_type": "code",
   "execution_count": 18,
   "metadata": {},
   "outputs": [
    {
     "name": "stdout",
     "output_type": "stream",
     "text": [
      "1.0000076051410753\n"
     ]
    }
   ],
   "source": [
    "testSum = 0\n",
    "for key, value in transitionProb.items():\n",
    "    if key[0] == 'C':\n",
    "        testSum += value\n",
    "print(testSum)"
   ]
  },
  {
   "cell_type": "markdown",
   "metadata": {},
   "source": [
    "### (c) Estimating the emission probability"
   ]
  },
  {
   "cell_type": "code",
   "execution_count": 19,
   "metadata": {},
   "outputs": [],
   "source": [
    "emissionCount = Counter()\n",
    "beta = 1\n",
    "for words, tags in zip(trainX, trainY):\n",
    "    for word, tag in zip(words, tags):\n",
    "        emissionCount[(tag, word)] += 1\n",
    "def calculateEmissionProb(emissionCount, stateSpace, beta):    \n",
    "    emissionProb = {}\n",
    "    for tag in stateSpace:\n",
    "#         print(tag)\n",
    "        for word in vocab:\n",
    "            emissionProb[(tag, word)] = (emissionCount[(tag, word)] + beta)/(tagCount[tag] + beta*len(vocab))\n",
    "    return emissionProb\n",
    "emissionProb = calculateEmissionProb(emissionCount, stateSpace, beta)"
   ]
  },
  {
   "cell_type": "code",
   "execution_count": 21,
   "metadata": {},
   "outputs": [
    {
     "name": "stdout",
     "output_type": "stream",
     "text": [
      "0.999999999999954\n"
     ]
    }
   ],
   "source": [
    "testSum = 0\n",
    "for key, value in emissionProb.items():\n",
    "    if key[0] == 'N':\n",
    "        testSum += value\n",
    "print(testSum)"
   ]
  },
  {
   "cell_type": "markdown",
   "metadata": {},
   "source": [
    "### (d) The Viterbi Algorithm"
   ]
  },
  {
   "cell_type": "code",
   "execution_count": 22,
   "metadata": {},
   "outputs": [],
   "source": [
    "# Convert to log probabilities\n",
    "from math import log\n",
    "def convertToLog(prob):\n",
    "    for k in prob:\n",
    "        prob[k] = log(prob[k])\n",
    "    return prob\n",
    "logTransitionProb = convertToLog(transitionProb)\n",
    "logEmissionProb = convertToLog(emissionProb)"
   ]
  },
  {
   "cell_type": "code",
   "execution_count": 23,
   "metadata": {},
   "outputs": [],
   "source": [
    "import numpy as np\n",
    "def viterbi(x, logTransitionProb, logEmissionProb):\n",
    "    \"\"\"\n",
    "    Return the MAP estimate of y.\n",
    "    Parameters\n",
    "    ----------\n",
    "    x : array (T,)\n",
    "        Observation state sequence. int dtype.\n",
    "    logTransitionProb : dictionary\n",
    "        State transition map.\n",
    "        details.\n",
    "    logEmissionProb : dictionary\n",
    "        Emission map.\n",
    "\n",
    "    Returns\n",
    "    -------\n",
    "    y : array (T,)\n",
    "        Maximum a posteriori probability estimate of hidden state trajectory.\n",
    "    \"\"\"\n",
    "    # Cardinality of the state space\n",
    "    K = len(stateSpace)\n",
    "    T = len(x)\n",
    "    maxProb = np.empty((T, K), np.float64)\n",
    "    bestPrev = np.empty((T, K), dtype=object)\n",
    "\n",
    "    # Initilaize the tracking tables from first observation\n",
    "    for i, tag in enumerate(stateSpace):\n",
    "        maxProb[0, i] = logTransitionProb[('<start>', tag)] + logEmissionProb[(tag, x[0])]\n",
    "    bestPrev[0, :] = '<start>'\n",
    "    for i in range(1, len(x)):\n",
    "        for j, tag in enumerate(stateSpace):\n",
    "            bestPrevProb, bestPrevTag = float('-inf'), None\n",
    "            for k, prevTag in enumerate(stateSpace):\n",
    "                temp = maxProb[i-1, k] + logTransitionProb[(prevTag, tag)] + logEmissionProb[(tag, x[i])]\n",
    "                if temp > bestPrevProb:\n",
    "                    bestPrevProb = temp\n",
    "                    bestPrevTag = prevTag\n",
    "            maxProb[i, j] = bestPrevProb\n",
    "            bestPrev[i, j] = bestPrevTag\n",
    "    bestLastProb, betLastTag = float('-inf'), None\n",
    "    for i, prevTag in enumerate(stateSpace):\n",
    "        temp = maxProb[-1, i] + logTransitionProb[(prevTag, '<end>')]\n",
    "        if temp > bestLastProb:\n",
    "            bestLastProb = temp\n",
    "            bestLastTag = prevTag\n",
    "    y = [bestLastTag]\n",
    "    for i in reversed(range(1, T)):\n",
    "#         print(i)\n",
    "        y.append(bestPrev[i, stateSpace.index(bestLastTag)])\n",
    "        bestLastTag = y[-1]\n",
    "    return y[::-1]"
   ]
  },
  {
   "cell_type": "code",
   "execution_count": 24,
   "metadata": {},
   "outputs": [],
   "source": [
    "def calculateAccuracy(x, y, logTransitionProb, logEmissionProb):\n",
    "    correct, total = 0, 0\n",
    "    for words, tags in zip(x, y):\n",
    "        predicted_tags = viterbi(words, logTransitionProb, logEmissionProb)\n",
    "        for predicted_tag, tag in zip(predicted_tags, tags):\n",
    "            total += 1\n",
    "            if predicted_tag == tag:\n",
    "                correct += 1\n",
    "    return correct/total"
   ]
  },
  {
   "cell_type": "code",
   "execution_count": 25,
   "metadata": {},
   "outputs": [
    {
     "name": "stdout",
     "output_type": "stream",
     "text": [
      "Accuracy: 0.9474509398528627\n"
     ]
    }
   ],
   "source": [
    "## load dev\n",
    "dev = open(\"data/dev.pos\").read().strip().split(\"\\n\")\n",
    "x, y = process(dev)\n",
    "x = setUnknown(x, vocab)\n",
    "# print(x[:3])\n",
    "# print(y[:3])\n",
    "print('Accuracy: {}'.format(calculateAccuracy(x, y, logTransitionProb, logEmissionProb)))"
   ]
  },
  {
   "cell_type": "markdown",
   "metadata": {},
   "source": [
    "### (e) Tuning $\\alpha$ and $\\beta$"
   ]
  },
  {
   "cell_type": "code",
   "execution_count": 26,
   "metadata": {},
   "outputs": [
    {
     "name": "stdout",
     "output_type": "stream",
     "text": [
      "alpha=1, accuracy=0.9474509398528627\n",
      "alpha=100, accuracy=0.9478213676538998\n",
      "alpha=200, accuracy=0.9480195034544546\n",
      "alpha=500, accuracy=0.9482865560552024\n",
      "alpha=1000, accuracy=0.9489671094571079\n",
      "alpha=2000, accuracy=0.9497941110594235\n",
      "alpha=3000, accuracy=0.9498199548594959\n",
      "alpha=5000, accuracy=0.9502248410606295\n",
      "alpha=10000, accuracy=0.9496735066590858\n",
      "alpha=20000, accuracy=0.9472355748522596\n"
     ]
    }
   ],
   "source": [
    "for alpha in [1,100, 200 , 500, 1000, 2000, 3000, 5000, 10000, 20000]:\n",
    "    transitionProb = calculateTransitionProb(transitionCount, stateSpace, alpha)\n",
    "    logTransitionProb = convertToLog(transitionProb)\n",
    "    print('alpha={}, accuracy={}'.format(alpha, calculateAccuracy(x, y, logTransitionProb, logEmissionProb)))"
   ]
  },
  {
   "cell_type": "code",
   "execution_count": 27,
   "metadata": {},
   "outputs": [
    {
     "name": "stdout",
     "output_type": "stream",
     "text": [
      "beta=1, accuracy=0.9502248410606295\n",
      "beta=2, accuracy=0.9462448958494857\n",
      "beta=3, accuracy=0.9422563360383177\n",
      "beta=4, accuracy=0.9388794128288623\n",
      "beta=5, accuracy=0.9361485846212161\n"
     ]
    }
   ],
   "source": [
    "transitionProb = calculateTransitionProb(transitionCount, stateSpace, 5000)\n",
    "logTransitionProb = convertToLog(transitionProb)\n",
    "for beta in [1, 2, 3, 4, 5]:\n",
    "    emissionProb = calculateEmissionProb(emissionCount, stateSpace, beta)\n",
    "    logEmissionProb = convertToLog(emissionProb)\n",
    "    print('beta={}, accuracy={}'.format(beta, calculateAccuracy(x, y, logTransitionProb, logEmissionProb)))"
   ]
  },
  {
   "cell_type": "markdown",
   "metadata": {},
   "source": [
    "### (f) Testing"
   ]
  },
  {
   "cell_type": "code",
   "execution_count": 28,
   "metadata": {},
   "outputs": [
    {
     "name": "stdout",
     "output_type": "stream",
     "text": [
      "Accuracy on testing data: 0.9515465680318943\n"
     ]
    }
   ],
   "source": [
    "tst = open(\"data/tst.pos\").read().strip().split(\"\\n\")\n",
    "x, y = process(tst)\n",
    "x = setUnknown(x, vocab)\n",
    "# alpha = 5000\n",
    "transitionProb = calculateTransitionProb(transitionCount, stateSpace, 5000)\n",
    "logTransitionProb = convertToLog(transitionProb)\n",
    "# beta = 1\n",
    "emissionProb = calculateEmissionProb(emissionCount, stateSpace, 1)\n",
    "logEmissionProb = convertToLog(emissionProb)\n",
    "print('Accuracy on testing data: {}'.format(calculateAccuracy(x, y, logTransitionProb, logEmissionProb)))"
   ]
  }
 ],
 "metadata": {
  "kernelspec": {
   "display_name": "Python 3",
   "language": "python",
   "name": "python3"
  },
  "language_info": {
   "codemirror_mode": {
    "name": "ipython",
    "version": 3
   },
   "file_extension": ".py",
   "mimetype": "text/x-python",
   "name": "python",
   "nbconvert_exporter": "python",
   "pygments_lexer": "ipython3",
   "version": "3.6.5"
  }
 },
 "nbformat": 4,
 "nbformat_minor": 2
}
