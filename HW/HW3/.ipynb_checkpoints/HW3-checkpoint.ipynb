{
 "cells": [
  {
   "cell_type": "markdown",
   "metadata": {},
   "source": [
    "# HW3"
   ]
  },
  {
   "cell_type": "code",
   "execution_count": 1,
   "metadata": {},
   "outputs": [
    {
     "name": "stdout",
     "output_type": "stream",
     "text": [
      "0, 1\n",
      "1, \t\n",
      "2, T\n",
      "3, h\n",
      "4, e\n",
      "5, r\n",
      "6, e\n",
      "7, \t\n",
      "8, _\n",
      "9, \t\n",
      "10, P\n",
      "11, R\n",
      "12, O\n",
      "13, N\n",
      "14, \t\n",
      "15, E\n",
      "16, X\n",
      "17, \t\n",
      "18, _\n",
      "19, \t\n",
      "20, 2\n",
      "21, \t\n",
      "22, e\n",
      "23, x\n",
      "24, p\n",
      "25, l\n",
      "26, \t\n",
      "27, _\n",
      "28, \t\n",
      "29, _\n"
     ]
    }
   ],
   "source": [
    "def readFile(fileName):\n",
    "    data = open(fileName).read().strip().split(\"\\n\")\n",
    "    # print(len(data[20]))\n",
    "    sentences = []\n",
    "    start = 0\n",
    "    for i, line in enumerate(data):\n",
    "        if len(line) == 0:\n",
    "            sentences.append(data[start:i])\n",
    "            start = i+1\n",
    "    sentences.append(data[start:])\n",
    "    for i, c in enumerate(sentences[0][3]):\n",
    "        print('{}, '.format(i) + c)\n",
    "    return sentences\n",
    "sentences = readFile(\"data.conll\")"
   ]
  },
  {
   "cell_type": "code",
   "execution_count": 2,
   "metadata": {},
   "outputs": [],
   "source": [
    "import numpy as np\n",
    "def setenceToTable(sentence):\n",
    "    table = []\n",
    "    for line in sentence:\n",
    "        if line[0] == '#':\n",
    "            continue\n",
    "        tokens = line.split('\\t')\n",
    "        table.append([tokens[0], tokens[1], tokens[6]])\n",
    "    return table\n",
    "# print(sentences)\n",
    "testData = setenceToTable(sentences[0])\n",
    "# print(testData)\n"
   ]
  },
  {
   "cell_type": "code",
   "execution_count": 12,
   "metadata": {},
   "outputs": [],
   "source": [
    "def parse(table):\n",
    "    stack = []\n",
    "    buffer = list(table)\n",
    "    actions = []\n",
    "    while buffer or len(stack) >= 2:\n",
    "#         print('buffer: {}'.format(buffer))\n",
    "#         print('stack: {}'.format(stack))\n",
    "#         print('actions: {}'.format(actions))\n",
    "#         print()\n",
    "        if len(stack) >= 2:\n",
    "            item2 = stack.pop()\n",
    "            item1 = stack.pop()\n",
    "            # item 1 is head\n",
    "            if item1[0] == item2[2] and all(item[2] != item2[0] for item in buffer+stack):\n",
    "#             if item1[0] == item2[2]:\n",
    "                stack.append(item1)\n",
    "                actions.append('RIGHTARC')\n",
    "            elif item1[2] != '0' and item2[0] == item1[2] and all(item[2] != item1[0] for item in buffer+stack):\n",
    "#             elif item1[2] != '0' and item2[0] == item1[2]:\n",
    "                stack.append(item2)\n",
    "                actions.append('LEFTARC')\n",
    "            else:\n",
    "                if buffer:\n",
    "                    stack.extend([item1, item2, buffer.pop(0)])\n",
    "                    actions.append('SHIFT')\n",
    "                else:\n",
    "                    return ['non-projective tree']\n",
    "        else:\n",
    "            stack.append(buffer.pop(0))\n",
    "            actions.append('SHIFT')\n",
    "    return actions"
   ]
  },
  {
   "cell_type": "code",
   "execution_count": 13,
   "metadata": {},
   "outputs": [
    {
     "data": {
      "text/plain": [
       "['SHIFT',\n",
       " 'SHIFT',\n",
       " 'RIGHTARC',\n",
       " 'SHIFT',\n",
       " 'SHIFT',\n",
       " 'SHIFT',\n",
       " 'LEFTARC',\n",
       " 'LEFTARC',\n",
       " 'RIGHTARC']"
      ]
     },
     "execution_count": 13,
     "metadata": {},
     "output_type": "execute_result"
    }
   ],
   "source": [
    "tree = [['1', 'Book', '0'], ['2', 'me', '1'], ['3', 'the', '5'], ['4', 'morning', '5'], ['5', 'flight', '1']]\n",
    "parse(tree)"
   ]
  },
  {
   "cell_type": "code",
   "execution_count": 116,
   "metadata": {},
   "outputs": [],
   "source": [
    "# parse(testData)"
   ]
  },
  {
   "cell_type": "code",
   "execution_count": 16,
   "metadata": {},
   "outputs": [],
   "source": [
    "actionsList = []\n",
    "for i, sentece in enumerate(sentences):\n",
    "#     print(i)\n",
    "#     print(sentece)\n",
    "    actionsList.append(parse(setenceToTable(sentece)))\n",
    "# parse(setenceToTable(sentences[14]))"
   ]
  },
  {
   "cell_type": "code",
   "execution_count": 18,
   "metadata": {},
   "outputs": [],
   "source": [
    "# print(actionsList)\n",
    "f = open('jk2mf-parsing-actions.txt', 'w')\n",
    "for actions in actionsList:\n",
    "    f.write(' '.join(actions) + '\\n')\n",
    "f.close()"
   ]
  },
  {
   "cell_type": "markdown",
   "metadata": {},
   "source": [
    "## Constituent Parsing\n",
    "\n",
    "(a)\n",
    "SHIFT action\n",
    "(b)\n",
    "REPLACE action\n",
    "\n",
    "(c)\n",
    "COMBINE action\n"
   ]
  },
  {
   "cell_type": "markdown",
   "metadata": {},
   "source": []
  }
 ],
 "metadata": {
  "file_extension": ".py",
  "kernelspec": {
   "display_name": "Python 3",
   "language": "python",
   "name": "python3"
  },
  "language_info": {
   "codemirror_mode": {
    "name": "ipython",
    "version": 3
   },
   "file_extension": ".py",
   "mimetype": "text/x-python",
   "name": "python",
   "nbconvert_exporter": "python",
   "pygments_lexer": "ipython3",
   "version": "3.6.5"
  },
  "mimetype": "text/x-python",
  "name": "python",
  "npconvert_exporter": "python",
  "pygments_lexer": "ipython3",
  "version": 3
 },
 "nbformat": 4,
 "nbformat_minor": 2
}
